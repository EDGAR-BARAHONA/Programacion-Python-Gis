{
 "cells": [
  {
   "cell_type": "markdown",
   "metadata": {},
   "source": [
    "### Caja Registradora\n",
    "\n",
    "<div style=\"text-align: right\"> Elaborado por: Edgar Barahona </div>\n",
    "<div style=\"text-align: right\"> Ingeniero Catastral y Geodesta </div>\n",
    "<div style=\"text-align: right\"> Universidad Distrital Francisco Jose de Caldas </div>\n",
    "<div style=\"text-align: right\"> Bogota, D.C., 19 de Noviembre de 2022</div>\n",
    "\n",
    "\n",
    "\n",
    "En este notebook se introduce de forma breve y concisa al funcionamiento del algoritmo de caja registradora, el cual ha sido desarrollado usando POO y que se agrega el el archivo *caja_registradora.py*.\n",
    "\n",
    "En este algorimo se crean tres clases principales, Producto, Factura y Caja registradora. La primer clase que es producto tiene dos metodos, el primero es un inicializados en el cual se define el nombre, codigo unico, costo, y descuento de los productos, y el segundo es un metodo de represenración para mostrar en pantalla los diferentes productos."
   ]
  },
  {
   "cell_type": "code",
   "execution_count": 1,
   "metadata": {},
   "outputs": [],
   "source": [
    "class Producto(object): \n",
    "\n",
    "    def __init__(self,Nombre,Codigo,Costo,Descuento): # define la clase Producto y crea las variables de instancia asociadas a este\n",
    "        self.Nombre = Nombre\n",
    "        self.Codigo = Codigo\n",
    "        self.Costo = Costo\n",
    "        self.Descuento = Descuento\n",
    "\n",
    "    def __repr__(self): # permite que se imprima la clase poducto\n",
    "         return \"{} | Codigo: {} | Precio: {} | Descuento: {}\".format(self.Nombre, self.Codigo, self.Costo, self.Descuento)"
   ]
  },
  {
   "cell_type": "markdown",
   "metadata": {},
   "source": [
    "La segunda clase principal Factura tiene en total 5 metodos de funcionamiento que son los siguientes:\n",
    "\n",
    "- el primero es un **inicializador** en el cual se definen una serie de listas vacias, estas seran usadas para llevar un registros de los productos que se encuentran agregados a la factura, dentro de estas de definen los codigos, nombres, unidades, costos y descuento, de cada uno de los productos agregados a la factura.\n",
    "- el segundo metodo se llama **agregar_producto**, este metodo permite agregar productos a la factura, como entrada este recibe cada uno de los parametros que fueron definidos en el inicializador.\n",
    "- El tercero se llama **calculo_subtotal** este calcula el subtotal del valor de los productos; sin aplicar descuentos.\n",
    "- El cuarto se llama **calculo_totaal** el cual calcula el total del valor de los productos en factura.\n",
    "- el ultimo metodo es un metodo grafico para inprimir en pantalla los elementos agregados a la factura.\n",
    "\n",
    "La definición final de la clase es la siguiente:"
   ]
  },
  {
   "cell_type": "code",
   "execution_count": 2,
   "metadata": {},
   "outputs": [],
   "source": [
    "class Factura(object):\n",
    "\n",
    "    def __init__(self):  #variables de instancia, se inicialzia como una factura vacia\n",
    "        self.Codigo=[]\n",
    "        self.Nombre=[]\n",
    "        self.Unidades=[]\n",
    "        self.Costo=[]\n",
    "        self.Descuento=[]\n",
    "\n",
    "    def agregar_producto(self,Codigo,Nombre,Unidades,Costo,Descuento): # agrega un prodcuto a la factura\n",
    "        self.Codigo.append(Codigo)\n",
    "        self.Nombre.append(Nombre)\n",
    "        self.Unidades.append(Unidades)\n",
    "        self.Costo.append(Costo)\n",
    "        self.Descuento.append(Descuento)\n",
    "\n",
    "    def calculo_subtotal(self): # sin aplicar el descuento\n",
    "        Valor = 0\n",
    "        for x in range(len(self.Codigo)):\n",
    "            Valor += self.Costo[x]*self.Unidades[x]\n",
    "        return Valor\n",
    "\n",
    "    def calculo_total(self): # Aplicando Descuento aplicar el descuento\n",
    "        Valor = 0\n",
    "        for x in range(len(self.Codigo)):\n",
    "            Valor += (self.Costo[x] - self.Costo[x]*self.Descuento[x]/100)*self.Unidades[x]\n",
    "        return Valor\n",
    "\n",
    "    def __repr__(self):      #permite que factura se imrprima\n",
    "        elementos = \"\"\n",
    "        for i in range(len(self.Codigo)):\n",
    "            Valor=self.Costo[i]*self.Unidades[i] \n",
    "            elementos = elementos + \" {} | {} | {} u/d. x ${} -- desc %{} = ${}\\n\".format(self.Codigo[i], self.Nombre[i], self.Unidades[i],self.Costo[i],self.Descuento[i],Valor) \n",
    "        return \"Factura de Compra \\n \\n\" + elementos"
   ]
  },
  {
   "cell_type": "markdown",
   "metadata": {},
   "source": [
    "La tercera clase que conforma nuestro algoritmo se llama Caja_Registradora, esta se compone de siete metodos principales que se describen a continuación.\n",
    "\n",
    "- **inicializador**: en este se definen seis varaibles, la primera es una instancia vacia de la clase factura, el segundo es una instancia vacia de la clase producto, los restantes son cuatro listas vacias, las cuales representan los codigos, productos, costos y descuento de los producto en la memoria de la caja.\n",
    "\n",
    "- **agregar_producto_a_caja**: el cual permite agregar productos a la memoria de la caja, en esta se agregan cuatro variables asociadas a productos que son el codigo, nombre, costo y descuento del producto en la memoria de la caja registradora.\n",
    "- **Productos_Disponibles**: este metodo permite mostrar en pantalla los productos disponibles en la caja registradora.\n",
    "- **Agregar_producto_factura**: este metodo permite agregar elementos a la factura; es decir definir en la caja registradora los productos que el cliente desea comprar.\n",
    "- **Facura_Limpia**: este metodo permite limpiar los productos de la factura y crear a su vez una nueva factura vacia para un nuevo producto.\n",
    "- **Terminar_Transaccion**: este metodo permite definir si se desea terminar la transaccion y generar el cobro del producto.\n",
    "\n",
    "La definición de la clase es la siguiente:"
   ]
  },
  {
   "cell_type": "code",
   "execution_count": 3,
   "metadata": {},
   "outputs": [],
   "source": [
    "class Caja_Registradora(object):\n",
    "\n",
    "    def __init__(self): # variables de instacnia, crea una factura vacia\n",
    "        self.Factura = Factura()\n",
    "        self.Producto = Producto(\"\",\"\",\"\",\"\")\n",
    "        self.Codigos = []\n",
    "        self.Productos = []\n",
    "        self.Costos = []\n",
    "        self.Descuentos = []\n",
    "\n",
    "    def Agregar_producto_a_caja(self,Producto): # permite añadir productos a la base de datos de la caja\n",
    "        self.Producto = Producto\n",
    "        self.Codigos.append(Producto.Codigo)\n",
    "        self.Costos.append(Producto.Costo)\n",
    "        self.Productos.append(Producto.Nombre)\n",
    "        self.Descuentos.append(Producto.Descuento)\n",
    "\n",
    "    def Productos_Disponibles(self): # pemite imprimir los productos disponibles que se encuentran en la caja\n",
    "        elementos = ''\n",
    "        for x in range(len(self.Productos)):\n",
    "            elementos+=\"  {} |  {} | $: {}\\n\".format(self.Codigos[x], self.Productos[x], self.Costos[x])\n",
    "        print(\"Productos en Caja\\n Codigo | Nombre | Valor\\n\" + elementos)\n",
    "        \n",
    "    def Agregar_producto_Factura(self):# añade los productos seleccionados a la factura\n",
    "        Codigo_Producto = input(\"Ingrese el codigo del producto que desea añadir al carrito \").upper()\n",
    "        while Codigo_Producto not in self.Codigos:\n",
    "            print(\"Error, Codigo no Valido\")\n",
    "            Codigo_Producto = input(\"Ingrese el codigo del producto que desea añadir al carrito \").upper()\n",
    "            \n",
    "        val = False\n",
    "        while val == False:\n",
    "            try:\n",
    "                Unidades=int(input(\" Ingrese las unidades del producto: \")) \n",
    "            except TypeError:\n",
    "                print(\"Error debe ingresar un valor numerico no una letra.\")          \n",
    "            else:\n",
    "                if Unidades > 0:\n",
    "                    val=True \n",
    "                else:\n",
    "                    print(\"Error, El valor ingresado debe ser mayor que cero.\")\n",
    "        \n",
    "        Cod = self.Codigos.index(Codigo_Producto)\n",
    "        self.Factura.agregar_producto(Codigo_Producto,self.Productos[Cod],Unidades,self.Costos[Cod], self.Descuentos[Cod])\n",
    "\n",
    "    def Factura_Limpia(self): #Devuelve la factura en limpio\n",
    "        self.Factura.Codigo=[]\n",
    "        self.Factura.Nombre=[]\n",
    "        self.Factura.Unidades=[]\n",
    "        self.Factura.Costo=[]\n",
    "        self.Factura.Descuento=[]\n",
    "\n",
    "    def Terminar_Transaccion(self):# termina la transaccion y hace el cobro al cliente\n",
    "        ValorSubtotal = self.Factura.calculo_subtotal()\n",
    "        Valortotal  = self.Factura.calculo_total()\n",
    "        val = False\n",
    "        while val == False:\n",
    "            try:\n",
    "                ValorCancelado = float(input(\"Con cuanto paga el usuario: \"))\n",
    "            except TypeError:\n",
    "                print ( \"Error, Ingrese un valor numerico no una letra: \")\n",
    "            else:\n",
    "                if ValorCancelado >= Valortotal:\n",
    "                    val = True\n",
    "                else:\n",
    "                    print(\"Upsss, No es suficiente con el dinero suministrado\")\n",
    "        \n",
    "        print(self.Factura)\n",
    "        print(\"El valor total es de: ${}\\n  El valor cancelado es; ${}\\n  El cambio es: ${}\".format(Valortotal,ValorCancelado,Valortotal-ValorCancelado))\n"
   ]
  },
  {
   "cell_type": "markdown",
   "metadata": {},
   "source": [
    "Ya definidas las clases que conforman el funcionamiento de nuestra caja registradora, el siguiente paso es definir el cuerpo de ejecución del algoritmo en primer caos instanciaremos ina variable llamada *Caja_Registadora1* con la clase caja registradora."
   ]
  },
  {
   "cell_type": "code",
   "execution_count": 4,
   "metadata": {},
   "outputs": [],
   "source": [
    "Caja_Registradora1 = Caja_Registradora() # define la instancia de la clase caja registradora"
   ]
  },
  {
   "cell_type": "markdown",
   "metadata": {},
   "source": [
    "El segundo paso sera crear una serie de productos, que represetaran los productos disponibles en la tienda"
   ]
  },
  {
   "cell_type": "code",
   "execution_count": 5,
   "metadata": {},
   "outputs": [],
   "source": [
    "#productos de la tienda\n",
    "Arroz=Producto(\"Arroz\",\"ID01\",1180, 9)\n",
    "Pasta=Producto(\"Pasta\",\"ID02\", 1450,7)\n",
    "Yuca=Producto(\"Yuca\",\"ID03\",1450,0)\n",
    "Papa=Producto(\"Papa\",\"ID04\",850,2)\n",
    "Arveja=Producto(\"Arveja\",\"ID05\",4500,3)\n",
    "Aguacate=Producto(\"Aguacate\",\"ID06\",6000,5)\n",
    "Platano=Producto(\"Platano\",\"ID07\",2800,10)\n",
    "Carne=Producto(\"Carne\",\"ID08\",8000,7)\n",
    "Pollo=Producto(\"Pollo\",\"ID09\",4500,6)\n",
    "Aceite=Producto(\"Aceite\",\"ID10\",6200,8)\n",
    "Sal=Producto(\"Sal\",\"ID11\",2200,10)\n",
    "Azucar=Producto(\"Azucar\",\"ID12\",3150,8)\n",
    "Leche=Producto(\"Leche\",\"ID13\",3200,15)"
   ]
  },
  {
   "cell_type": "markdown",
   "metadata": {},
   "source": [
    "Seguido a esto agregamos los productos definidos a la caja uando el metodo *agregar_producto_a_caja*"
   ]
  },
  {
   "cell_type": "code",
   "execution_count": 6,
   "metadata": {},
   "outputs": [],
   "source": [
    "#productos disponibles en la caja registradora\n",
    "Caja_Registradora1.Agregar_producto_a_caja(Arroz)\n",
    "Caja_Registradora1.Agregar_producto_a_caja(Pasta)\n",
    "Caja_Registradora1.Agregar_producto_a_caja(Yuca)\n",
    "Caja_Registradora1.Agregar_producto_a_caja(Papa)\n",
    "Caja_Registradora1.Agregar_producto_a_caja(Arveja)\n",
    "Caja_Registradora1.Agregar_producto_a_caja(Aguacate)\n",
    "Caja_Registradora1.Agregar_producto_a_caja(Platano)\n",
    "Caja_Registradora1.Agregar_producto_a_caja(Carne)\n",
    "Caja_Registradora1.Agregar_producto_a_caja(Pollo)\n",
    "Caja_Registradora1.Agregar_producto_a_caja(Aceite)\n",
    "Caja_Registradora1.Agregar_producto_a_caja(Sal)\n",
    "Caja_Registradora1.Agregar_producto_a_caja(Azucar)\n",
    "Caja_Registradora1.Agregar_producto_a_caja(Leche)"
   ]
  },
  {
   "cell_type": "markdown",
   "metadata": {},
   "source": [
    "por ultimo definimos el cuerpor de funcionamiento, este controla el funcionamiento basico, primero le muestra los productos al cajero, despues el cajero registra los productos que necesite. Al terminar el cajero con la adicion de productos calcula el precio final de estos y por ultimo el cajero decide y cerrar el sistema o hacer una transaccion nueva. La definición del cuerpo de funcionamiento es la siguiente."
   ]
  },
  {
   "cell_type": "code",
   "execution_count": 7,
   "metadata": {},
   "outputs": [
    {
     "name": "stdout",
     "output_type": "stream",
     "text": [
      "Caja Registradora Numero 1\n"
     ]
    }
   ],
   "source": [
    "print(\"\"\"Caja Registradora Numero 1\"\"\") \n",
    "\n",
    "Termino =0\n",
    "while Termino==0:\n",
    "    Continuar = 0\n",
    "    while Continuar == 0:\n",
    "        Opc1 = input(\"Desea ver los prodcutos disponibles en caja si/no \").upper()\n",
    "        while not (Opc1 == 'SI' or Opc1 == 'NO'):\n",
    "            print (\"Error, argumentos no validos\")\n",
    "            Opc1 = input(\"Desea ver los productos disponibles en caja si/no \").upper()\n",
    "\n",
    "        if Opc1 == 'SI':\n",
    "            Caja_Registradora1.Productos_Disponibles()\n",
    "        \n",
    "        Caja_Registradora1.Agregar_producto_Factura()\n",
    "        print(Caja_Registradora1.Factura)\n",
    "        print(\" \\n Subtotal : ${}\".format(Caja_Registradora1.Factura.calculo_subtotal()))\n",
    "        print(\" \\n Total : ${}\".format(Caja_Registradora1.Factura.calculo_total()))\n",
    "\n",
    "        Opc2 = input(\"Desea agregar mas productos si/no \").upper()\n",
    "        while not (Opc2 == 'SI' or Opc2 == 'NO'):\n",
    "            print (\"Error, argumentos no validos\")\n",
    "\n",
    "        if Opc2 == 'NO':\n",
    "            Continuar = 1\n",
    "    \n",
    "    Caja_Registradora1.Factura\n",
    "    print(\" \\n Subtotal : ${}\".format(Caja_Registradora1.Factura.calculo_subtotal()))\n",
    "    print(\" \\n Total : ${}\".format(Caja_Registradora1.Factura.calculo_total()))\n",
    "    print(\"\\n Descuento: ${}\".format(Caja_Registradora1.Factura.calculo_subtotal()-Caja_Registradora1.Factura.calculo_total()))\n",
    "    print(\"\")\n",
    "    Caja_Registradora1.Terminar_Transaccion()\n",
    "\n",
    "    var = input(\"Desea realziar otra transaccion si/no \").upper()\n",
    "    while not (var == 'SI' or var == 'NO'):\n",
    "            print (\"Error, argumentos no validos \")\n",
    "            Opc1 = input(\"Desea realziar otra transaccion si/no \").upper()\n",
    "        \n",
    "    if var == 'NO':\n",
    "        Termino = 1\n",
    "    else:\n",
    "        Caja_Registradora1.Factura_Limpia()"
   ]
  },
  {
   "cell_type": "markdown",
   "metadata": {},
   "source": [
    "### Notas.\n",
    "\n",
    "- Recuerde que este archivo sirve solo como guia de  funcionamiento del archivo *caja_registradora.py*. El correr este notebook puede llevar a un sobreconsumo y reinicio de kernel, si deseaejecutar este comando descarga el archivo .py mencionado y ejecute este."
   ]
  }
 ],
 "metadata": {
  "kernelspec": {
   "display_name": "Python 3.9.11 64-bit",
   "language": "python",
   "name": "python3"
  },
  "language_info": {
   "codemirror_mode": {
    "name": "ipython",
    "version": 3
   },
   "file_extension": ".py",
   "mimetype": "text/x-python",
   "name": "python",
   "nbconvert_exporter": "python",
   "pygments_lexer": "ipython3",
   "version": "3.9.11"
  },
  "orig_nbformat": 4,
  "vscode": {
   "interpreter": {
    "hash": "dcbecde42b8a1067f350bca6bdaefd1c58671b5449af8b60830f3618a36582b5"
   }
  }
 },
 "nbformat": 4,
 "nbformat_minor": 2
}
