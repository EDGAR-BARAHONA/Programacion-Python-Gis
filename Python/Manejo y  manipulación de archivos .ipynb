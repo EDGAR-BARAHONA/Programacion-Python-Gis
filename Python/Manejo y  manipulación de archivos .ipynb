{
 "cells": [
  {
   "cell_type": "markdown",
   "metadata": {},
   "source": [
    "## Lectura y escritura de Archivos\n",
    "\n",
    "<div style=\"text-align: right\"> Elaborado por: Edgar Barahona </div>\n",
    "<div style=\"text-align: right\"> Ingeniero Catastral y Geodesta </div>\n",
    "<div style=\"text-align: right\"> Universidad Distrital Francisco Jose de Caldas </div>\n",
    "<div style=\"text-align: right\"> Bogota, D.C., 19 de Noviembre de 2022</div>\n",
    "<div style=\"text-align: right\"> puede revisar el <a href=\"https://github.com/EDGAR-BARAHONA?tab=repositories\">Repositorio GitHub</a> para mas  </div>"
   ]
  },
  {
   "cell_type": "markdown",
   "metadata": {},
   "source": [
    "La lectura de archivos es uno de los aspectos mas importantes del treabajo con datos en python. En este caso realizaremos la escritura de algunas lines sobre archivos. En este caso usaremos archivos  de texto para el\n",
    "analisis. En primer caso vamos a abrir el archivo denominado *archivo.txt*. Como se puede ver en este caso al abrir el archivo usamos el comando **'w'**, este indica que el arhivo lo estamos abriendo en en formato escritura **'write'**."
   ]
  },
  {
   "cell_type": "code",
   "execution_count": 15,
   "metadata": {},
   "outputs": [],
   "source": [
    "with open(\"CargaEscritura/archivo.txt\", 'w') as archivo:\n",
    "    archivo.write('La programación en  Python es lo mejor!!')"
   ]
  },
  {
   "cell_type": "markdown",
   "metadata": {},
   "source": [
    "En el caso anterior escribimos una unica linea sobre el archivo. Pueden haber casos en los cuales deseemos escribir  varias lineas, en ese caso usamos la funcion **'writelines'** para escribir una serie de lineas en un archivo llamado *Archivo2.txt*."
   ]
  },
  {
   "cell_type": "code",
   "execution_count": 16,
   "metadata": {},
   "outputs": [],
   "source": [
    "with open (\"CargaEscritura/archivo1.txt\", 'w') as archivo2:\n",
    "    archivo2.writelines(['Pyhon es un gran lenguaje de programación.\\n','Permite escribir codigo de forma simple y sencilla.\\n', 'Usando algoritmos par labores como analitica y ciencia de datos.\\n'])"
   ]
  },
  {
   "cell_type": "markdown",
   "metadata": {},
   "source": [
    "En este caso hemos guardado una frase en el archivo, si queremos ver si efectivamente la frase se ha guardado, debemos abrir el archivo en modo lectura **'r'**, el cual indica que estamos abriendo este archivo en modo lectura **'read'**. En el siguinete caso instanciamos una nueva varaible objeto llamada **archivoLectura**"
   ]
  },
  {
   "cell_type": "code",
   "execution_count": 18,
   "metadata": {},
   "outputs": [
    {
     "name": "stdout",
     "output_type": "stream",
     "text": [
      "La programación en  Python es lo mejor!!\n"
     ]
    }
   ],
   "source": [
    "with open(\"CargaEscritura/archivo.txt\", 'r') as archivoLectura:\n",
    "    print(archivoLectura.read())\n"
   ]
  },
  {
   "cell_type": "markdown",
   "metadata": {},
   "source": [
    "En el caso en el que necesitamos leer un archivo que contiene multipes lineas, podemos usar la funcion **readlines**"
   ]
  },
  {
   "cell_type": "code",
   "execution_count": 19,
   "metadata": {},
   "outputs": [
    {
     "name": "stdout",
     "output_type": "stream",
     "text": [
      "['Pyhon es un gran lenguaje de programación.\\n', 'Permite escribir docigo de forma simple y sencilla.\\n', 'Usando algoritmos par labores como analitica y ciencia de datos.\\n']\n"
     ]
    }
   ],
   "source": [
    "with open (\"CargaEscritura/archivo1.txt\", 'r') as archivoLectura2:\n",
    "    print(archivoLectura2.readlines())"
   ]
  },
  {
   "cell_type": "markdown",
   "metadata": {},
   "source": [
    "Otra forma de leer varias lineas e imprimir  cada una de etsas de forma independiente podemos usar ciclos *For* anidando con la función **print()**."
   ]
  },
  {
   "cell_type": "code",
   "execution_count": 21,
   "metadata": {},
   "outputs": [
    {
     "name": "stdout",
     "output_type": "stream",
     "text": [
      "Pyhon es un gran lenguaje de programación.\n",
      "\n",
      "Permite escribir docigo de forma simple y sencilla.\n",
      "\n",
      "Usando algoritmos par labores como analitica y ciencia de datos.\n",
      "\n"
     ]
    }
   ],
   "source": [
    "with open (\"CargaEscritura/archivo1.txt\", 'r') as archivo:\n",
    "    for line in archivo:\n",
    "        print(line)"
   ]
  },
  {
   "cell_type": "markdown",
   "metadata": {},
   "source": [
    "la funcion **with** cierra los archivos de forma automatica, en el caso de que se abran los archivos instanciado una varaible para cerrar el archivo usamos la funcion **close()** que nos permiten cerrar el archivo"
   ]
  },
  {
   "cell_type": "code",
   "execution_count": 22,
   "metadata": {},
   "outputs": [],
   "source": [
    "archivoLectura.close()"
   ]
  },
  {
   "cell_type": "markdown",
   "metadata": {},
   "source": [
    "### Lectura y escritura de archivos en formato CSV"
   ]
  },
  {
   "cell_type": "markdown",
   "metadata": {},
   "source": [
    "\n",
    "Otro aspecto importantes es la lactura de archivos cvs, ello dado a que es una de los formatos más común mente usado en la actuliadad. Para ellos usamos la libreria por defecto llamda **CSV**"
   ]
  },
  {
   "cell_type": "code",
   "execution_count": 26,
   "metadata": {},
   "outputs": [],
   "source": [
    "import csv"
   ]
  },
  {
   "cell_type": "markdown",
   "metadata": {},
   "source": [
    "En este caso, vamos a leer un archivo que hemos creado de forma previa. en este caso, vamos escribir una lista sobre un archivo llamado **archivo.csv**, en este caos usaremos la función **csv.writer**"
   ]
  },
  {
   "cell_type": "code",
   "execution_count": 28,
   "metadata": {},
   "outputs": [],
   "source": [
    "with open (\"CargaEscritura/archivo.csv\", 'a') as file:\n",
    "    writer= csv.writer(file)\n",
    "    writer.writerow([\"pedro\", \"jose\", \"hannibal\", \"lorezo\"])"
   ]
  },
  {
   "cell_type": "markdown",
   "metadata": {},
   "source": [
    "Ahora para leer este archivo vamos a usar la funcion **csv.reader()** "
   ]
  },
  {
   "cell_type": "code",
   "execution_count": 29,
   "metadata": {},
   "outputs": [
    {
     "name": "stdout",
     "output_type": "stream",
     "text": [
      "\n",
      "pedro, jose, hannibal, lorezo\n",
      "\n"
     ]
    }
   ],
   "source": [
    "with open (\"CargaEscritura/archivo.csv\", 'r') as file:\n",
    "    reader = csv.reader(file)\n",
    "    for row in reader:\n",
    "        print(', '.join(row))"
   ]
  },
  {
   "cell_type": "markdown",
   "metadata": {},
   "source": [
    "Otras forma de almacenamiento de datos  es la siguiente en donde en un archivo llamdo **archivo2.csv**, guardaremos algunos datos, los cuales estan separados por un **\"/\"**."
   ]
  },
  {
   "cell_type": "code",
   "execution_count": 36,
   "metadata": {},
   "outputs": [],
   "source": [
    "with open('CargaEscritura/archivo2.csv', 'w', newline='') as csvfile:\n",
    "    spamwriter = csv.writer(csvfile, delimiter='/',\n",
    "                            quotechar='|', quoting=csv.QUOTE_MINIMAL)\n",
    "    spamwriter.writerow(['Gato'] * 5 + ['Perro'])\n",
    "    spamwriter.writerow(['Gato', 'Conejo', 'perro'])"
   ]
  },
  {
   "cell_type": "markdown",
   "metadata": {},
   "source": [
    "leyendo"
   ]
  },
  {
   "cell_type": "code",
   "execution_count": 37,
   "metadata": {},
   "outputs": [
    {
     "name": "stdout",
     "output_type": "stream",
     "text": [
      "Gato, Gato, Gato, Gato, Gato, Perro\n",
      "Gato, Conejo, perro\n"
     ]
    }
   ],
   "source": [
    "with open('CargaEscritura/archivo2.csv', newline='') as csvfile:\n",
    "    spamreader = csv.reader(csvfile, delimiter=' ', quotechar='|')\n",
    "    for row in spamreader:\n",
    "        print(', '.join(row))"
   ]
  },
  {
   "cell_type": "markdown",
   "metadata": {},
   "source": [
    "Otro aspecto interesante a la hora de trabajar con datos CSV, es  la capacidad de almacenar datos en formato de diccionario, ello gracias a la función **csv.DictWriter**. A continuación realizaremos la adicion de una serie de lineas en las cuales almacenaremos datos en formato diccionarios."
   ]
  },
  {
   "cell_type": "code",
   "execution_count": 38,
   "metadata": {},
   "outputs": [],
   "source": [
    "with open('CargaEscritura/Diccionario.csv', 'w', newline='') as csvfile:\n",
    "    fieldnames = ['first_name', 'last_name']\n",
    "    writer = csv.DictWriter(csvfile, fieldnames=fieldnames)\n",
    "\n",
    "    writer.writeheader()\n",
    "    writer.writerow({'first_name': 'Diana', 'last_name': 'Gomez'})\n",
    "    writer.writerow({'first_name': 'Andrea', 'last_name': 'Rodriguez'})\n",
    "    writer.writerow({'first_name': 'Camilo', 'last_name': 'Sarate'})"
   ]
  },
  {
   "cell_type": "markdown",
   "metadata": {},
   "source": [
    "Ahora para leer los datos de los diccionarios usamos la funcion **DictReader** que permite leer diccionarios e imprimirlos en formato texto."
   ]
  },
  {
   "cell_type": "code",
   "execution_count": 39,
   "metadata": {},
   "outputs": [
    {
     "name": "stdout",
     "output_type": "stream",
     "text": [
      "Diana Gomez\n",
      "Andrea Rodriguez\n",
      "Camilo Sarate\n"
     ]
    }
   ],
   "source": [
    "with open('CargaEscritura/Diccionario.csv', newline='') as csvfile:\n",
    "    reader = csv.DictReader(csvfile)\n",
    "    for row in reader:\n",
    "        print(row['first_name'], row['last_name'])"
   ]
  },
  {
   "cell_type": "markdown",
   "metadata": {},
   "source": [
    "Con la finalidad de corroborar la estructura de diccionario leemos la ultima linea que hemos cargado con antertioridad."
   ]
  },
  {
   "cell_type": "code",
   "execution_count": 40,
   "metadata": {},
   "outputs": [
    {
     "name": "stdout",
     "output_type": "stream",
     "text": [
      "{'first_name': 'Camilo', 'last_name': 'Sarate'}\n"
     ]
    }
   ],
   "source": [
    "print(row)"
   ]
  },
  {
   "cell_type": "markdown",
   "metadata": {},
   "source": [
    "### Referencias \n",
    "\n",
    "\n",
    "[Documentación de referencia librerias CSV](https://pro.arcgis.com/es/pro-app/2.8/arcpy/functions/describe-object-properties.htm)"
   ]
  }
 ],
 "metadata": {
  "kernelspec": {
   "display_name": "Python 3.9.11",
   "language": "python",
   "name": "python3"
  },
  "language_info": {
   "codemirror_mode": {
    "name": "ipython",
    "version": 3
   },
   "file_extension": ".py",
   "mimetype": "text/x-python",
   "name": "python",
   "nbconvert_exporter": "python",
   "pygments_lexer": "ipython3",
   "version": "3.9.11"
  },
  "orig_nbformat": 4,
  "vscode": {
   "interpreter": {
    "hash": "dcbecde42b8a1067f350bca6bdaefd1c58671b5449af8b60830f3618a36582b5"
   }
  }
 },
 "nbformat": 4,
 "nbformat_minor": 2
}
