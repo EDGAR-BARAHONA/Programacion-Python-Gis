{
 "cells": [
  {
   "cell_type": "markdown",
   "metadata": {},
   "source": [
    "### Juego del Triki o Tateti\n",
    "\n",
    "<div style=\"text-align: right\"> Elaborado por: Edgar Barahona </div>\n",
    "<div style=\"text-align: right\"> Ingeniero Catastral y Geodesta </div>\n",
    "<div style=\"text-align: right\"> Universidad Distrital Francisco Jose de Caldas </div>\n",
    "<div style=\"text-align: right\"> Bogota, D.C., 10 de Octubre de 2022</div>\n",
    "<div style=\"text-align: right\"> puede revisar el <a href=\"https://github.com/EDGAR-BARAHONA?tab=repositories\">Repositorio GitHub</a> para mas  </div>\n",
    "\n",
    "* Cuaderno y Codigo original creador por Edgar Barahona, puede revisar el <a href=\"https://github.com/EDGAR-BARAHONA?tab=repositories\">Repositorio GitHub</a> para mas.\n",
    "\n",
    "\n",
    "\n",
    "En este notebook vamos a programar de forma sencilla un juego de Tateti o tambien conocido como triki. Lo primero que vamos a hacer es importar las librerias que vamos a usar."
   ]
  },
  {
   "cell_type": "code",
   "execution_count": null,
   "metadata": {},
   "outputs": [],
   "source": [
    "import random\n",
    "import sys\n",
    "import os"
   ]
  },
  {
   "cell_type": "markdown",
   "metadata": {},
   "source": [
    "#### Seleccion de Letra\n",
    "\n",
    "Como en todo juego de Triki/Tateti el primer paso es la seleccion de la letra, o marca. En este caso la seleccion se realiza entre la letra 'O' y 'X', ello realizando unsa selecciona numerica. En base a la seleccion del usuario el algoritmo asignara una marca."
   ]
  },
  {
   "cell_type": "code",
   "execution_count": null,
   "metadata": {},
   "outputs": [],
   "source": [
    "def Seleccion_Letra():\n",
    "    marcas_jugadores = {1:\"X\",2:\"O\"}\n",
    "    seleccion =\"\"\n",
    "    while not (seleccion == 1 or  seleccion == 2):\n",
    "        seleccion = input(\"Ingrese 1 si Desea seleccionar X u 2 si desea seleccionar O: \")\n",
    "        while not (seleccion.isdigit()):\n",
    "            seleccion = input(\" Usted no ha ingresado un digito, Ingrese 1 si Desea seleccionar X u 2 si desea seleccionar O: \")\n",
    "        seleccion = int(seleccion)    \n",
    "    if (seleccion ==1):\n",
    "        marcajugador = marcas_jugadores.get(1)\n",
    "        marcamaquina = marcas_jugadores.get(2)\n",
    "        print(\"usted eligio \", marcajugador, \"por lo cual la maquina lanzara con \",marcamaquina)\n",
    "    else:\n",
    "        marcajugador = marcas_jugadores.get(2)\n",
    "        marcamaquina = marcas_jugadores.get(1)\n",
    "        print(\"usted eligio \", marcajugador, \"por lo cual la maquina lanzara con \",marcamaquina)\n",
    "    return marcajugador , marcamaquina"
   ]
  },
  {
   "cell_type": "markdown",
   "metadata": {},
   "source": [
    "#### Posiciones de juego.\n",
    "\n",
    "Lo primero que vamos a hacer es crear un diccionario de posiciones, usando este definiremos las 9 posiciones del juego de tateti o triki, para ello usaremos una funcion llamada *delposiciones* la cual usaremos para crear un tablero vacio. Esta funcion sera usada cada vez que queramos definir in tablero vacio; al iniciar o terminar el juego."
   ]
  },
  {
   "cell_type": "code",
   "execution_count": null,
   "metadata": {},
   "outputs": [],
   "source": [
    "def defposiciones():\n",
    "    posiciones={1:\"_\",2:\"_\",3:\"_\",4:\"_\",5:\"_\",6:\"_\",7:\"_\",8:\"_\",9:\"_\"}\n",
    "    return posiciones"
   ]
  },
  {
   "cell_type": "markdown",
   "metadata": {},
   "source": [
    "#### Tablero de juego\n",
    " \n",
    " Despues vamos a crear el tablero de juego, para ello vamos definir una funcion llamada *Tablero* esta funcion sera la encargada de dibujar el tablero de juego vacio y de actualizar las posiciones despues del lanzamiento de cada jugador. Para ello usaremos un **ciclo for** que se ejecutara nueve veces, dentro de este usando la funcion **stdout.write** la cual dibujara una barra | y llamara a una lista llamda *\"posicion\"* lan cual almacera los espacios vacios o numeros dentro de cada una de las 9 posiciones del juego. Por ultimo definimos un condicional mediante el cual condicionaremos que el tablero sea dibujado en tres filas y columnas respectivamente"
   ]
  },
  {
   "cell_type": "code",
   "execution_count": null,
   "metadata": {},
   "outputs": [],
   "source": [
    "def Tablero():\n",
    "    for pos in range(1,10):\n",
    "        sys.stdout.write(\"|\" + posicion[pos])\n",
    "        if (pos%3==0): print(\"|\\n\")"
   ]
  },
  {
   "cell_type": "markdown",
   "metadata": {},
   "source": [
    "#### Verificar ganador\n",
    "\n",
    "Uno de los aspectos fundamentales del juego es identificar si despues de cada lanzamiento hay un ganador. Para ello se crea una función simple que mediante condicionales *if* y *or* validara si existe un ganador."
   ]
  },
  {
   "cell_type": "code",
   "execution_count": null,
   "metadata": {},
   "outputs": [],
   "source": [
    "def ganador(posiciones2,marca):\n",
    "    \n",
    "    if (posiciones2[1] == posiciones2[2] == posiciones2[3] == marca or \\\n",
    "        posiciones2[1] == posiciones2[4] == posiciones2[7] == marca or \\\n",
    "        posiciones2[7] == posiciones2[8] == posiciones2[9] == marca or \\\n",
    "        posiciones2[3] == posiciones2[6] == posiciones2[9] == marca or \\\n",
    "        posiciones2[1] == posiciones2[5] == posiciones2[9] == marca or \\\n",
    "        posiciones2[3] == posiciones2[5] == posiciones2[7] == marca or \\\n",
    "        posiciones2[2] == posiciones2[5] == posiciones2[8] == marca or \\\n",
    "        posiciones2[4] == posiciones2[5] == posiciones2[6] == marca):\n",
    "        return True\n",
    "    else:\n",
    "        return False"
   ]
  },
  {
   "cell_type": "markdown",
   "metadata": {},
   "source": [
    "#### Lanzamiento persona.\n",
    "\n",
    "Para seguir, vamos a crear una funcion llamada *lanzamiento_Persona* esta sera la encargada de solicitar el lanzamiento a el jugador. En primer aspecto, usaremos la función *input* para solictar a le  jugadoir que ingrese un numero entre 1-9 que define la posicion en la cual desea poner la marca. Posteriormente se evalua si la posicion solictada por el jugador esta vacia, en caso de ser asi, se actualiza la posicíon usando la funcion *update*.\n",
    "\n",
    "En el caso de que la posición no este vacia, se valida si efectivamente esta vacia o si el numero ingresado es mayor a 9, en ese caso se solicita que se introduzca nuevamente el numero. En cada caso deido a que son datos que se estan ingresando por teclado y que son captados por una funcion *input()* es necesario validar si el dato ingresado por teclado es efectivamente un digito, para ello usamos el atrinuto *.isdigit()*.\n",
    "\n",
    "El codigo que define la funcion es el siguiente."
   ]
  },
  {
   "cell_type": "code",
   "execution_count": null,
   "metadata": {},
   "outputs": [],
   "source": [
    "def lanzamiento_Persona():\n",
    "    valor = input(\"ingrese la posicion en la cual desea marcar: \")\n",
    "    while not (valor.isdigit()):\n",
    "        valor = input(\" No ha ingresado un numero entre 1 y 9, ingrese nuevamente la posicion en la cual desea marcar: \")\n",
    "\n",
    "    valor = int(valor)\n",
    "\n",
    "    if (posicion.get(valor) == \"_\"):\n",
    "        posicion.update({valor:mjugador})\n",
    "        Tablero()\n",
    "    else:\n",
    "        while not (posicion.get(valor) ==\"_\" and valor <= 9 ):\n",
    "            print(\"error la posicion \", valor, \"se encuentra ocupada , o \", valor, \" puede ser un valor superior a 9\")\n",
    "            valor = input(\"ingrese una posicion valida en la cual desea marcar: \")\n",
    "            while not (valor.isdigit()):\n",
    "                valor = input(\" No ha ingresado un numero entre 1 y 9, ingrese nuevamente la posicion en la cual desea marcar: \")\n",
    "            valor = int(valor)\n",
    "        posicion.update({valor:mjugador})    \n",
    "        Tablero()"
   ]
  },
  {
   "cell_type": "markdown",
   "metadata": {},
   "source": [
    "#### Lanzamiento Maquina\n",
    "\n",
    "El siguiente paso, es definir la forma en que el algoritomo definira en donde lanzar o marcar, para ello se define la funcion *lanzamiento_Maquina()*. En primer caso definimos una lista llamda *lista*, en la cual se almacenan los elementos que se encuentran en cada una de las posiciones, posteriormente se define una serie de listas que representan las posiciones vacias, las esquinas, tres listas que ayudaran a adefinir la seleccion de la IA del juego y una varaible llamada asignación que definira si la IA a tomado una desición."
   ]
  },
  {
   "cell_type": "code",
   "execution_count": null,
   "metadata": {},
   "outputs": [],
   "source": [
    "#NO CORRER ESTA CELDA    \n",
    "    lista = list(posicion.values())\n",
    "    lista_vacios= []\n",
    "    lista_esquinas = []\n",
    "    seleccion = []\n",
    "    seleccion2 = []\n",
    "    seleccion3 = []\n",
    "    esquinas =[1,3,7,9]\n",
    "    asignacion = 0"
   ]
  },
  {
   "cell_type": "markdown",
   "metadata": {},
   "source": [
    "En primer caso usaremos dis ciclos for de forma consecutiva para identificar las posiciones vacias tanto esquinas como de las demas posiciones, ello para ser usadas a  futuroe en caso de ser necesario"
   ]
  },
  {
   "cell_type": "code",
   "execution_count": null,
   "metadata": {},
   "outputs": [],
   "source": [
    "#NO CORRER ESTA CELDA    \n",
    "    for pos in esquinas:\n",
    "        if (lista[pos-1] ==\"_\"):\n",
    "            lista_esquinas.append(pos)\n",
    "\n",
    "    for k, v in posicion.items():\n",
    "        if (posicion.get(k) == \"_\"):\n",
    "            lista_vacios.append(k)"
   ]
  },
  {
   "cell_type": "markdown",
   "metadata": {},
   "source": [
    "Despues de identificar las celdas vacias el siguiente paso que hara el lanzamiento de la maquina, sera identificar si puede ganar el juego en el lanzamiento actual; es decir, identificar si al marcar cualquiera de las casillas vacias puede ganar. Lo que hace el fragmento de codigo es hacer una copia del estado actual las casillas del tablero para validar si marcando sobre cualquiera de las casillas puede ganar. Para validar si puede ganar llama la funcion *ganador()* la cual valida si marcando sobre cualquiera de las casillas vacias la IA del juego seria la ganadora, en caso de ser asi se selecciona esta opcion y se asigna a la varaible asignación un valor de 1, que indicaria que la desición se tomo en este punto del algoritmo y se ignoraran las lineas de codigo siguiente, lo que evitara que la desición tomada se sobre escriba."
   ]
  },
  {
   "cell_type": "code",
   "execution_count": null,
   "metadata": {},
   "outputs": [],
   "source": [
    "#NO CORRER ESTA CELDA     \n",
    "    for vacio in lista_vacios:\n",
    "        posiciones2 = posicion.copy()\n",
    "        posiciones2.update({vacio:mmaquina})\n",
    "        if (ganador(posiciones2,mmaquina)):\n",
    "            seleccion2.append(vacio) \n",
    "            posicion.update({seleccion2[0]:mmaquina})\n",
    "            asignacion +=1"
   ]
  },
  {
   "cell_type": "markdown",
   "metadata": {},
   "source": [
    "Si en las lineas de codigo anteriores no se identifico una casilla vacia que al ser marcada pór la IA la consagrara como ganadora, el siguiente paso logico es identificar si el usuario tiene la posibilidad de ganar, para ello la IA realiza el mismo paso del codigo anterior solo que validando si  existe una casilla vacia que en caso de no ser marcada por la IA le permitiese ganar al usuario. Si es asi la IA seleccionara esta casilla de forma automatica, bloqueando la posibilidad de ganar del usuario."
   ]
  },
  {
   "cell_type": "code",
   "execution_count": null,
   "metadata": {},
   "outputs": [],
   "source": [
    "#NO CORRER ESTA CELDA     \n",
    "    for vacio in lista_vacios:\n",
    "        posiciones2 = posicion.copy()\n",
    "        posiciones2.update({vacio:mjugador})\n",
    "        if (ganador(posiciones2,mjugador) and asignacion ==0):\n",
    "            seleccion.append(vacio) \n",
    "            posicion.update({seleccion[0]:mmaquina})\n",
    "            asignacion +=1"
   ]
  },
  {
   "cell_type": "markdown",
   "metadata": {},
   "source": [
    "En el caso de que ninguna de las opciones anteriores se cumpla y hasta este punto el algoritmo de la IA no halla tomado una desición, se tomaran dos desiciones simples, la primera es identificar si existen esquinas vacias, en caso de ser asi, el algoritmo seleccionara alguna de las esquinas vacias de forma aleatoria. En el caso de que las esquinas esten ocupadas seleccionara de forma aleatoria alguna de las casillas vacias en el tablero. Lo anterior usando condicionales *if*"
   ]
  },
  {
   "cell_type": "code",
   "execution_count": null,
   "metadata": {},
   "outputs": [],
   "source": [
    "# NO CORRER ESTA CELDA    \n",
    "    if ( len(lista_vacios)<= 9 and asignacion == 0 and len(lista_esquinas)> 0):\n",
    "        seleccion3.append(random.choice(lista_esquinas))\n",
    "        posicion.update({seleccion3[0]:mmaquina})\n",
    "\n",
    "    if( len(lista_vacios) <= 9 and asignacion == 0):\n",
    "        seleccion3.append(random.choice(lista_vacios))\n",
    "        posicion.update({seleccion3[0]:mmaquina})"
   ]
  },
  {
   "cell_type": "markdown",
   "metadata": {},
   "source": [
    "Enlazandp todos los elementos anteriores en una la funcion mencionada se tiene el siguiente codigo:"
   ]
  },
  {
   "cell_type": "code",
   "execution_count": null,
   "metadata": {},
   "outputs": [],
   "source": [
    "def lanzamiento_Maquina():\n",
    "    lista = list(posicion.values())\n",
    "    lista_vacios= []\n",
    "    lista_esquinas = []\n",
    "    seleccion = []\n",
    "    seleccion2 = []\n",
    "    seleccion3 = []\n",
    "    esquinas =[1,3,7,9]\n",
    "    asignacion = 0\n",
    "\n",
    "    for pos in esquinas:\n",
    "        if (lista[pos-1] ==\"_\"):\n",
    "            lista_esquinas.append(pos)\n",
    "\n",
    "    for k, v in posicion.items():\n",
    "        if (posicion.get(k) == \"_\"):\n",
    "            lista_vacios.append(k)\n",
    "\n",
    "    for vacio in lista_vacios:\n",
    "        posiciones2 = posicion.copy()\n",
    "        posiciones2.update({vacio:mmaquina})\n",
    "        if (ganador(posiciones2,mmaquina)):\n",
    "            seleccion2.append(vacio) \n",
    "            posicion.update({seleccion2[0]:mmaquina})\n",
    "            asignacion +=1\n",
    "\n",
    "    for vacio in lista_vacios:\n",
    "        posiciones2 = posicion.copy()\n",
    "        posiciones2.update({vacio:mjugador})\n",
    "        if (ganador(posiciones2,mjugador) and asignacion ==0):\n",
    "            seleccion.append(vacio) \n",
    "            posicion.update({seleccion[0]:mmaquina})\n",
    "            asignacion +=1\n",
    " \n",
    "    if ( len(lista_vacios)<= 9 and asignacion == 0 and len(lista_esquinas)> 0):\n",
    "        seleccion3.append(random.choice(lista_esquinas))\n",
    "        posicion.update({seleccion3[0]:mmaquina})\n",
    "\n",
    "    if( len(lista_vacios) <= 9 and asignacion == 0):\n",
    "        seleccion3.append(random.choice(lista_vacios))\n",
    "        posicion.update({seleccion3[0]:mmaquina})\n",
    "\n",
    "    Tablero()"
   ]
  },
  {
   "cell_type": "markdown",
   "metadata": {},
   "source": [
    "#### Jugada\n",
    "\n",
    "El siguiente paso sera la declaracion del eje principal del juego, la funcion *Jugada()* esta en función de la seleccion de la letra o marca que selecccione el usuario, en este caso se define por defecto que la marca 'X' lanza de primero. Esta funcion se estructura como un condicional *if* dentro del cual se anida un ciclo *while* que a su vez contiene un condicional *if*. Esta lo que hace es solicitar a el usuario y a la IA del juego que hagan un lanzamiento hasta que el alguien gane o el juego termine en empate. Para validar el posible ganador se invoca la funcion *ganador()* definida con anterioridad.\n",
    "\n",
    "Dnetro de esta función se definen tres varibles globales que seran modificadas por las difernetes funciones. Y un varaible conteo que serviura de apoyo para contar el numero de jugadas."
   ]
  },
  {
   "cell_type": "code",
   "execution_count": null,
   "metadata": {},
   "outputs": [],
   "source": [
    "def jugada():\n",
    "\n",
    "    global posicion, mjugador, mmaquina\n",
    "    conteo = 0\n",
    "    posicion = defposiciones()\n",
    "    mjugador, mmaquina = Seleccion_Letra()\n",
    "    if (mjugador == \"X\"):\n",
    "        gag =\"\"\n",
    "        while not (gag ==True):\n",
    "            conteo += 1\n",
    "            print(\"Lanza el Usuario\")\n",
    "            lanzamiento_Persona()\n",
    "            if (ganador(posicion, mjugador) == True):\n",
    "                print(\"Felicidades usted ha ganado\")\n",
    "                gag = True\n",
    "                posicion.clear() \n",
    "                break\n",
    "\n",
    "            if ( conteo ==9):\n",
    "                print(\"Empte,Juego terminado\")\n",
    "                break\n",
    "\n",
    "            print(\"Lanza el Ordenador\")\n",
    "            conteo += 1\n",
    "            lanzamiento_Maquina()\n",
    "            if (ganador(posicion, mmaquina)== True):\n",
    "                print(\"Oppss el ordenador ha ganado\")\n",
    "                gag = True\n",
    "                posicion.clear()\n",
    "                break\n",
    "\n",
    "            if ( conteo ==9):\n",
    "                print(\"Empte, Juego terminado\")\n",
    "                break\n",
    "                \n",
    "    else:\n",
    "        gag =\"\"\n",
    "        while not (gag ==True):\n",
    "            conteo += 1\n",
    "            print(\"Lanza el Ordenador\")\n",
    "            lanzamiento_Maquina()\n",
    "            if (ganador(posicion, mmaquina) == True):\n",
    "                print(\"Oppss el ordenador ha ganado\")\n",
    "                gag = True\n",
    "                posicion.clear() \n",
    "                break\n",
    "\n",
    "            if ( conteo ==9):\n",
    "                print(\"Empte, Juego terminado\")\n",
    "                break\n",
    "\n",
    "            print(\"Lanza el Usuario\")\n",
    "            conteo += 1\n",
    "            lanzamiento_Persona()\n",
    "            if (ganador(posicion, mjugador)== True):\n",
    "                print(\"Felicidades usted ha ganado\")\n",
    "                gag = True\n",
    "                posicion.clear()\n",
    "                break\n",
    "\n",
    "            if ( conteo ==9):\n",
    "                print(\"Empte, Juego terminado\")\n",
    "                break\n"
   ]
  },
  {
   "cell_type": "markdown",
   "metadata": {},
   "source": [
    "##### Juego\n",
    "\n",
    "Por ultimo se define la funcion juego, que llmara la jugada, esta es un envoltorio simple que lo que hace en realidad es generar un mensaje de bienvenida al juego y permitirle al usuario decidir si quiere volver a jugar una vez ha termindado el juego."
   ]
  },
  {
   "cell_type": "code",
   "execution_count": null,
   "metadata": {},
   "outputs": [],
   "source": [
    "def juego ():\n",
    "    print(\"Bienvenido al juego del TA-TE-TI\")\n",
    "    print(\"\")\n",
    "    continuar = 1\n",
    "    while (continuar == 1):\n",
    "        jugada()\n",
    "        continuar = input(\"Presione 1 si desea Jugar de nuevo, de lo contrario presion cualquier tecla: \")\n",
    "        if (continuar.isdigit() and int(continuar) ==1 ):\n",
    "            continuar = int(continuar)\n",
    "        else:\n",
    "            break\n",
    "    print(\"juego Termiando\")"
   ]
  },
  {
   "cell_type": "markdown",
   "metadata": {},
   "source": [
    "por ultimo se hace el llamado a esta funcion para iniciar el juego en consola."
   ]
  },
  {
   "cell_type": "code",
   "execution_count": null,
   "metadata": {},
   "outputs": [],
   "source": [
    "juego()"
   ]
  },
  {
   "cell_type": "markdown",
   "metadata": {},
   "source": [
    "#### Notas\n",
    "* Este libro de a creado como apoyo a la creación del juego. Para ejecutar este de forma optima se recomienda ejecutar el archivo *.py*"
   ]
  }
 ],
 "metadata": {
  "kernelspec": {
   "display_name": "Python 3.9.11",
   "language": "python",
   "name": "python3"
  },
  "language_info": {
   "codemirror_mode": {
    "name": "ipython",
    "version": 3
   },
   "file_extension": ".py",
   "mimetype": "text/x-python",
   "name": "python",
   "nbconvert_exporter": "python",
   "pygments_lexer": "ipython3",
   "version": "3.9.11"
  },
  "orig_nbformat": 4,
  "vscode": {
   "interpreter": {
    "hash": "dcbecde42b8a1067f350bca6bdaefd1c58671b5449af8b60830f3618a36582b5"
   }
  }
 },
 "nbformat": 4,
 "nbformat_minor": 2
}
