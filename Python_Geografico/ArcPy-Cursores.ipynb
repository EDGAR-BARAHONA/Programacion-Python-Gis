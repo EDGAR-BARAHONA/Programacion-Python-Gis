{
 "cells": [
  {
   "cell_type": "markdown",
   "metadata": {},
   "source": [
    "# Cursores\n",
    "\n",
    "Como es sabido los datos almacenados en las tablas de atributos de los archivos shapefile no pueden ser accedidos por medio de los metodos comunes que se usan en python para ello. Es por ello que en la libreria arcpy se disponen de Cursores, lo ccuales son objetos que facilitan el acceso a los datos disponibles en las tablas de atrinutos de los archivos shapefile.\n",
    "\n",
    "La estructura que se maneja cuando se usan cursores es la siguiente:\n",
    "\n",
    "<img src='imagenes/CursorEstructura.png'>\n",
    "<img src='imagenes/CursorEstructura2.png'>\n",
    "\n",
    "En este caso se realizara la consulta sobre el archivo shape de departamentos, usando las columnas relacionadas a el codigo del departamento, año de fundación, nombre del departamento y area territorial e imprimimos la primera fila de la tabla de atributos. \n",
    "\n",
    "Aunque primero debemos definir las librerias que usaremos."
   ]
  },
  {
   "cell_type": "code",
   "execution_count": 1,
   "metadata": {},
   "outputs": [
    {
     "name": "stdout",
     "output_type": "stream",
     "text": [
      "La ruta del directorio de trabajo es:  D:/PORCALCULO_TRABAJO/LIBROS_PYTHON/Datos\n"
     ]
    }
   ],
   "source": [
    "import arcpy\n",
    "import csv\n",
    "\n",
    "arcpy.env.workspace = \"D:/Python-ArcPy/Datos\"\n",
    "arcpy.env.overwriteOutput = True\n",
    "dir = arcpy.env.workspace\n",
    "print('La ruta del directorio de trabajo es: ', dir)\n",
    "shapefile = \"MGN_DPTO_POLITICO.shp\""
   ]
  },
  {
   "cell_type": "markdown",
   "metadata": {},
   "source": [
    "despues como mencionamos instanceamos una variable llamda cursor, la cual extraera del archivo .shp el codigo del departamentos, año de creación, nombre y area."
   ]
  },
  {
   "cell_type": "code",
   "execution_count": 2,
   "metadata": {},
   "outputs": [
    {
     "data": {
      "text/plain": [
       "('05', 1886, 'ANTIOQUIA', 62808.6295973)"
      ]
     },
     "execution_count": 2,
     "metadata": {},
     "output_type": "execute_result"
    }
   ],
   "source": [
    "cursor = arcpy.da.SearchCursor( 'MGN_DPTO_POLITICO.shp', ['DPTO_CCDGO', 'DPTO_ANO_C' , 'DPTO_CNMBR', 'DPTO_NAREA'])\n",
    "cursor.next()"
   ]
  },
  {
   "cell_type": "markdown",
   "metadata": {},
   "source": [
    "La funcion **.next** nos ayuda a recorrer linea por linea de los datos de la tabla de atributos. En el caso con el comando de la celda anterior leimos la primera linea, al volver a invocar la función esta nos devolvera como resultado la segunda linea de la tabla de atributos"
   ]
  },
  {
   "cell_type": "code",
   "execution_count": 3,
   "metadata": {},
   "outputs": [
    {
     "data": {
      "text/plain": [
       "('08', 1910, 'ATLÁNTICO', 3314.44741326)"
      ]
     },
     "execution_count": 3,
     "metadata": {},
     "output_type": "execute_result"
    }
   ],
   "source": [
    "cursor.next()"
   ]
  },
  {
   "cell_type": "markdown",
   "metadata": {},
   "source": [
    "<img src='imagenes/FilasCursor.png'>"
   ]
  },
  {
   "cell_type": "markdown",
   "metadata": {},
   "source": [
    "Otras funciones como .fields permite ver los nombres de las columnas del archivo shapefile de interes"
   ]
  },
  {
   "cell_type": "code",
   "execution_count": 4,
   "metadata": {},
   "outputs": [
    {
     "data": {
      "text/plain": [
       "('DPTO_CCDGO', 'DPTO_ANO_C', 'DPTO_CNMBR', 'DPTO_NAREA')"
      ]
     },
     "execution_count": 4,
     "metadata": {},
     "output_type": "execute_result"
    }
   ],
   "source": [
    "cursor.fields"
   ]
  },
  {
   "cell_type": "markdown",
   "metadata": {},
   "source": [
    "Las consultas sobre los atributos de las tablas de datos del archivo shape se pueden hacer en funcion de atributos deseados. En este caso se crea una funcion llamada **excludeFields**, que en este caso usaremos para excluir de la consulta del cursor los campos de tipo geometria, oid y double. En etse caso se usa **with as** para la invocación de cursor, este metodo permite implementar **del cursor** que permite eliminar el cursor una vez se realiza la accion necesaria.\n",
    "\n",
    "En sintesis con el siguiente codigo imprimimos la tabla de atributos del shapefile mostrando unicamente los atributos de interes.\n",
    "\n",
    "por ultimo se elimina el cursor"
   ]
  },
  {
   "cell_type": "code",
   "execution_count": null,
   "metadata": {},
   "outputs": [],
   "source": [
    "def excludeFields(table, types=[]):\n",
    "    fieldNames = []\n",
    "    fds = arcpy.ListFields(table)\n",
    "    for f in fds:\n",
    "        if f.type not in types:\n",
    "            fieldNames.append(f.name) \n",
    "    return fieldNames\n",
    "        \n",
    "excludeTypes = ['Geometry', 'OID', 'Double'] \n",
    "fields = excludeFields('MGN_DPTO_POLITICO.shp', excludeTypes) \n",
    "with arcpy.da.SearchCursor('MGN_DPTO_POLITICO.shp', fields) as cursor:\n",
    "    print(cursor.fields)\n",
    "for row in cursor: \n",
    "    print(row) \n",
    "del cursor"
   ]
  },
  {
   "cell_type": "markdown",
   "metadata": {},
   "source": [
    "Otro aspecto interesante de los cursores, es la posibilidad de crear de forma rapida scripts que permitan emigrar los datos disponibles en una tabla de atrinutos de un archivo shapefile a otro formato de interes. en este caso usando cursores y las fucniones disponibles en la libreria **CSV**, exportaremos los datos de la tabla de atrinutos a formato csv. "
   ]
  },
  {
   "cell_type": "code",
   "execution_count": null,
   "metadata": {},
   "outputs": [],
   "source": [
    "cursor = arcpy.da.SearchCursor( 'MGN_DPTO_POLITICO.shp',fields)\n",
    "filename = 'MGN_DPTO_POLITICO.shp'.replace(\".shp\",\"\") +'.csv'\n",
    "\n",
    "excludeTypes = [] \n",
    "fields = excludeFields('MGN_DPTO_POLITICO.shp', excludeTypes) \n",
    "cursor = arcpy.da.SearchCursor('MGN_DPTO_POLITICO.shp',fields)\n",
    "\n",
    "with open(filename, 'w', newline='') as csvfile:\n",
    "    # creating a csv writer object\n",
    "    \n",
    "    csvwriter = csv.writer(csvfile,delimiter='|',dialect='excel',quoting=csv.QUOTE_NONE)\n",
    "    csvwriter.writerow(fields)\n",
    "    for row in cursor:\n",
    "        csvwriter.writerow(row)"
   ]
  }
 ],
 "metadata": {
  "kernelspec": {
   "display_name": "Python 3.9.11 64-bit ('entorno2-py3')",
   "language": "python",
   "name": "python3"
  },
  "language_info": {
   "codemirror_mode": {
    "name": "ipython",
    "version": 3
   },
   "file_extension": ".py",
   "mimetype": "text/x-python",
   "name": "python",
   "nbconvert_exporter": "python",
   "pygments_lexer": "ipython3",
   "version": "3.9.11"
  },
  "orig_nbformat": 4,
  "vscode": {
   "interpreter": {
    "hash": "dcbecde42b8a1067f350bca6bdaefd1c58671b5449af8b60830f3618a36582b5"
   }
  }
 },
 "nbformat": 4,
 "nbformat_minor": 2
}
