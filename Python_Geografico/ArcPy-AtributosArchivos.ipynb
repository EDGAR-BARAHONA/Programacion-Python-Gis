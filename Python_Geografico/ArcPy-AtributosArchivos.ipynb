{
 "cells": [
  {
   "cell_type": "markdown",
   "metadata": {},
   "source": [
    "# Comandos de Python para ArcGIS"
   ]
  },
  {
   "cell_type": "markdown",
   "metadata": {},
   "source": [
    "<div style=\"text-align: right\"> Elaborado por: Edgar Barahona </div>\n",
    "<div style=\"text-align: right\"> Ingeniero Catastral y Geodesta </div>\n",
    "<div style=\"text-align: right\"> Universidad Distrital Francisco Jose de Caldas </div>\n",
    "<div style=\"text-align: right\"> Bogota, D.C., 19 de Noviembre de 2022</div>\n",
    "<div style=\"text-align: right\"> puede revisar el <a href=\"https://github.com/EDGAR-BARAHONA?tab=repositories\">Repositorio GitHub</a> para mas  </div>\n",
    "\n",
    "Arcgis, es quizas el mas grande y avanzado GIS (*Geographic information System*) del mercado, este le permite a los usuarios realizar un gran numero de operaciones con información geografica (raster y vector) los cuales son fundamentales para el para realizar seguimieto y evaluación a un amplio numero de problematicas.\n",
    "\n",
    "Este programa cuenta con una libreria diseñada para facilitar los procesos de automatización de datos, ya   que esta permite realizar pequeños o amplios esquemas de codigo que permiten la manipulación de información geohgrafica.\n",
    "\n",
    "En este libro se realiza una corta introduccion a el tratamiento deinformación geoghrafica usando la libreria *Arcpy* del programa Arcgis"
   ]
  },
  {
   "cell_type": "markdown",
   "metadata": {},
   "source": [
    "### 1) Manejo de directorio de trabajo y archivos en su interior"
   ]
  },
  {
   "cell_type": "markdown",
   "metadata": {},
   "source": [
    "##### 1.1) Definición del entorno de trabajo\n",
    "\n",
    "Lo primero en este caso es importar las librerias de python que son de nuestro interes para el ejercicio"
   ]
  },
  {
   "cell_type": "code",
   "execution_count": 1,
   "metadata": {},
   "outputs": [],
   "source": [
    "import arcpy\n",
    "from arcpy import env\n",
    "import sys, os"
   ]
  },
  {
   "cell_type": "markdown",
   "metadata": {},
   "source": [
    "##### 1.1) Definición del entorno de trabajo\n",
    "\n",
    "Uno de los pasos mas importantes en arcgis es definir el entorno de trabajo. En este caso definiremos el entorno de trabajo, y permitiremos que este los datos en este sean sobre escribibles ello por medio de la funcion **arcpy.env.overwriteOutput**. Por  ultio leemos el directorio donde se almacenara los datos."
   ]
  },
  {
   "cell_type": "code",
   "execution_count": 2,
   "metadata": {},
   "outputs": [
    {
     "name": "stdout",
     "output_type": "stream",
     "text": [
      "La ruta del directorio de trabajo es:  D:/LIBROS_PYTHON/Datos\n"
     ]
    }
   ],
   "source": [
    "arcpy.env.workspace = \"D:/Python-ArcPy/Datos\"\n",
    "arcpy.env.overwriteOutput = True\n",
    "dir = arcpy.env.workspace\n",
    "print('La ruta del directorio de trabajo es: ', dir)"
   ]
  },
  {
   "cell_type": "markdown",
   "metadata": {},
   "source": [
    "##### 1.2) Validación de datos en el entorno de trabajo.\n",
    "\n",
    "Muchas veces es de nuestro interes conocer cuales sonlos archivos que se encuentran en nuestro entorno de trabajo.\n",
    "con la libreria por defecto de python \"os\" Podemos ver cuales son los archivos unitarios que existen en el entorno de trabajo."
   ]
  },
  {
   "cell_type": "code",
   "execution_count": 3,
   "metadata": {},
   "outputs": [
    {
     "data": {
      "text/plain": [
       "['Capitales.CPG',\n",
       " 'Capitales.dbf',\n",
       " 'Capitales.prj',\n",
       " 'Capitales.sbn',\n",
       " 'Capitales.sbx',\n",
       " 'Capitales.shp',\n",
       " 'Capitales.shp.xml',\n",
       " 'Capitales.shx',\n",
       " 'MGN_DPTO_POLITICO.cpg',\n",
       " 'MGN_DPTO_POLITICO.dbf',\n",
       " 'MGN_DPTO_POLITICO.prj',\n",
       " 'MGN_DPTO_POLITICO.sbn',\n",
       " 'MGN_DPTO_POLITICO.sbx',\n",
       " 'MGN_DPTO_POLITICO.shp',\n",
       " 'MGN_DPTO_POLITICO.shp.ACER311020EDGAR.10564.11056.sr.lock',\n",
       " 'MGN_DPTO_POLITICO.shp.ACER311020EDGAR.10564.rd.lock',\n",
       " 'MGN_DPTO_POLITICO.shp.ACER311020EDGAR.9968.5496.sr.lock',\n",
       " 'MGN_DPTO_POLITICO.shp.xml',\n",
       " 'MGN_DPTO_POLITICO.shx',\n",
       " 'MGN_DPTO_POLITICO.zip',\n",
       " 'MGN_MPIO_POLITICO.cpg',\n",
       " 'MGN_MPIO_POLITICO.dbf',\n",
       " 'MGN_MPIO_POLITICO.prj',\n",
       " 'MGN_MPIO_POLITICO.sbn',\n",
       " 'MGN_MPIO_POLITICO.sbx',\n",
       " 'MGN_MPIO_POLITICO.shp',\n",
       " 'MGN_MPIO_POLITICO.shp.xml',\n",
       " 'MGN_MPIO_POLITICO.shx',\n",
       " 'MOSAICO.tif',\n",
       " 'Results']"
      ]
     },
     "execution_count": 3,
     "metadata": {},
     "output_type": "execute_result"
    }
   ],
   "source": [
    "os.listdir(dir)"
   ]
  },
  {
   "cell_type": "markdown",
   "metadata": {},
   "source": [
    "Como vemos la función **listdir** de la libreria *OS* nos muestra los archivos que se encuentran al intrerior de nuestro entorno de trabajo.En este caso **Arcpy** cuenta con una objeto por defecto que produce el mismo resultado que **os.listdir**, veamos el resultado de invocar la funcióm **Arcpy.ListFiles()**"
   ]
  },
  {
   "cell_type": "code",
   "execution_count": 4,
   "metadata": {},
   "outputs": [
    {
     "data": {
      "text/plain": [
       "['Capitales.CPG',\n",
       " 'Capitales.dbf',\n",
       " 'Capitales.prj',\n",
       " 'Capitales.sbn',\n",
       " 'Capitales.sbx',\n",
       " 'Capitales.shp',\n",
       " 'Capitales.shp.xml',\n",
       " 'Capitales.shx',\n",
       " 'MGN_DPTO_POLITICO.cpg',\n",
       " 'MGN_DPTO_POLITICO.dbf',\n",
       " 'MGN_DPTO_POLITICO.prj',\n",
       " 'MGN_DPTO_POLITICO.sbn',\n",
       " 'MGN_DPTO_POLITICO.sbx',\n",
       " 'MGN_DPTO_POLITICO.shp',\n",
       " 'MGN_DPTO_POLITICO.shp.ACER311020EDGAR.10564.11056.sr.lock',\n",
       " 'MGN_DPTO_POLITICO.shp.ACER311020EDGAR.10564.rd.lock',\n",
       " 'MGN_DPTO_POLITICO.shp.ACER311020EDGAR.9968.5496.sr.lock',\n",
       " 'MGN_DPTO_POLITICO.shp.xml',\n",
       " 'MGN_DPTO_POLITICO.shx',\n",
       " 'MGN_DPTO_POLITICO.zip',\n",
       " 'MGN_MPIO_POLITICO.cpg',\n",
       " 'MGN_MPIO_POLITICO.dbf',\n",
       " 'MGN_MPIO_POLITICO.prj',\n",
       " 'MGN_MPIO_POLITICO.sbn',\n",
       " 'MGN_MPIO_POLITICO.sbx',\n",
       " 'MGN_MPIO_POLITICO.shp',\n",
       " 'MGN_MPIO_POLITICO.shp.xml',\n",
       " 'MGN_MPIO_POLITICO.shx',\n",
       " 'MOSAICO.tif',\n",
       " 'Results']"
      ]
     },
     "execution_count": 4,
     "metadata": {},
     "output_type": "execute_result"
    }
   ],
   "source": [
    "arcpy.ListFiles()"
   ]
  },
  {
   "cell_type": "markdown",
   "metadata": {},
   "source": [
    "Como vemos el resultado de las dos funciones es el mismo. En este caso como vemos el listado de elementos menciona cuatro archivos que son:"
   ]
  },
  {
   "cell_type": "markdown",
   "metadata": {},
   "source": [
    "    - Capitales: Archivo de puntos que representa las capitales de Colombia\n",
    "    - MGN_DPTO_POLITICO: Archivo con la división politica de Colombía a nivel departamental.\n",
    "    - MGN_MPIO_POLITICO:  Archivo con la división politica de Colombía a nivel municipal.\n",
    "    - MOSAICO: De la cuenca del guavio, Zona centro del pais."
   ]
  },
  {
   "cell_type": "markdown",
   "metadata": {},
   "source": [
    "Hasta ahora solo hemos visto los archivos dentro del entono de trabajo, pero no sabemos de que tipo son. Aunque para una persona conocedora serria facil identificar que tipo de archivo esta al interior de la carpeta, puede que para usuario sin mucha experiencia no lo sea asi. En este caso veremos cuales son los elementos dentro de la la carpeta de trabajo y cual es su tipo, pero esta ves usando los objetos de arcpy \"\"ListFeatureClasses\" y \"ListRasters\"."
   ]
  },
  {
   "cell_type": "code",
   "execution_count": 5,
   "metadata": {},
   "outputs": [
    {
     "name": "stdout",
     "output_type": "stream",
     "text": [
      "los elementos en la base de datos son los siguientes,el archivo ['MOSAICO.tif'] de tipo raster y los archivos ['Capitales.shp', 'MGN_DPTO_POLITICO.shp', 'MGN_MPIO_POLITICO.shp'] de tipo shapefile\n"
     ]
    }
   ],
   "source": [
    "shapefiles = arcpy.ListFeatureClasses()\n",
    "rasters = arcpy.ListRasters()\n",
    "print('los elementos en la base de datos son los siguientes,el archivo {} de tipo raster y los archivos {} de tipo shapefile'.format(rasters, shapefiles))"
   ]
  },
  {
   "cell_type": "markdown",
   "metadata": {},
   "source": [
    "Como vemos las funciones nos indican que existen tres archivos shapefile y un archivo raster. Como vemos las anteriores funciones son de gran utilidad para la identificación de los archivods que se encuentran en el entorno de trabajo y su respectivo tipo."
   ]
  },
  {
   "cell_type": "markdown",
   "metadata": {},
   "source": [
    "##### 1.2) Descripcion de los datos en el entorno de trabajo"
   ]
  },
  {
   "cell_type": "markdown",
   "metadata": {},
   "source": [
    "Arcpy cuenta con funciones las cuales permiten obtener una descripcion de los tipos de objetos dentro del entorno de trabajo, en este caso usaremos la funcion **Describe**, para que realice una descripcion de los elementos dentro del entorno de trabajo, empezando por el archivo **MGN_DPTO_POLITICO**."
   ]
  },
  {
   "cell_type": "code",
   "execution_count": 6,
   "metadata": {},
   "outputs": [
    {
     "data": {
      "text/html": [
       "<style>table td#td0  {font-weight: bold}</style><table class=\"notebook\"><colgroup><col style=\"width:45%\"></col><col style=\"width:55%\"></col></colgroup><tr><td id = \"td0\" title=\"catalogPath\">catalogPath</td><td title=\"D:/LIBROS_PYTHON/Datos\\MGN_DPTO_POLITICO.shp\">D:/LIBROS_PYTHON/Datos\\MGN_DPTO_POLITICO.shp</td></tr><tr><td id = \"td0\" title=\"dataType\">dataType</td><td title=\"ShapeFile\">ShapeFile</td></tr><tr><td id = \"td0\" title=\"shapeType\">shapeType</td><td title=\"Polygon\">Polygon</td></tr><tr><td id = \"td0\" title=\"hasM\">hasM</td><td title=\"False\">False</td></tr><tr><td id = \"td0\" title=\"hasZ\">hasZ</td><td title=\"False\">False</td></tr></table><div class=\"title\"><i class=\"chevron-open\" onClick=\"event.preventDefault();document.getElementById('A43C2F9B-729B-4D60-88C1-DC116952B466').style.display =   document.getElementById('A43C2F9B-729B-4D60-88C1-DC116952B466').style.display == 'none' ? 'block' : 'none';this.classList.toggle('chevron-closed');\"></i>fields</div><div id=\"A43C2F9B-729B-4D60-88C1-DC116952B466\"><style>table td#td0  {font-weight: bold}</style><table class=\"notebook\"><colgroup><col style=\"width:45%\"></col><col style=\"width:55%\"></col></colgroup><tr><td id = \"td0\" title=\"FID\">FID</td><td title=\"OID\">OID</td></tr><tr><td id = \"td0\" title=\"Shape\">Shape</td><td title=\"Geometry\">Geometry</td></tr><tr><td id = \"td0\" title=\"DPTO_CCDGO\">DPTO_CCDGO</td><td title=\"String\">String</td></tr><tr><td id = \"td0\" title=\"DPTO_CNMBR\">DPTO_CNMBR</td><td title=\"String\">String</td></tr><tr><td id = \"td0\" title=\"DPTO_ANO_C\">DPTO_ANO_C</td><td title=\"Integer\">Integer</td></tr><tr><td id = \"td0\" title=\"DPTO_ACT_A\">DPTO_ACT_A</td><td title=\"String\">String</td></tr><tr><td id = \"td0\" title=\"DPTO_NAREA\">DPTO_NAREA</td><td title=\"Double\">Double</td></tr><tr><td id = \"td0\" title=\"DPTO_CSMBL\">DPTO_CSMBL</td><td title=\"String\">String</td></tr><tr><td id = \"td0\" title=\"DPTO_VGNC\">DPTO_VGNC</td><td title=\"Integer\">Integer</td></tr><tr><td id = \"td0\" title=\"Shape_Leng\">Shape_Leng</td><td title=\"Double\">Double</td></tr><tr><td id = \"td0\" title=\"Shape_Area\">Shape_Area</td><td title=\"Double\">Double</td></tr></table></div><div class=\"title\"><i class=\"chevron-open\" onClick=\"event.preventDefault();document.getElementById('F180982F-5EF0-406B-A929-0A3874B0D508').style.display =   document.getElementById('F180982F-5EF0-406B-A929-0A3874B0D508').style.display == 'none' ? 'block' : 'none';this.classList.toggle('chevron-closed');\"></i>spatialReference</div><div id=\"F180982F-5EF0-406B-A929-0A3874B0D508\"><style>table td#td0  {font-weight: bold}</style><table class=\"notebook\"><colgroup><col style=\"width:45%\"></col><col style=\"width:55%\"></col></colgroup><tr><td id = \"td0\" title=\"name (Geographic Coordinate System)\">name (Geographic Coordinate System)</td><td title=\"GCS_MAGNA\">GCS_MAGNA</td></tr><tr><td id = \"td0\" title=\"factoryCode (WKID)\">factoryCode (WKID)</td><td title=\"4686\">4686</td></tr><tr><td id = \"td0\" title=\"angularUnitName (Angular Unit)\">angularUnitName (Angular Unit)</td><td title=\"Degree\">Degree</td></tr><tr><td id = \"td0\" title=\"datumName (Datum)\">datumName (Datum)</td><td title=\"D_MAGNA\">D_MAGNA</td></tr></table></div><p class=\"gpresult\">For additional help,     see <a href=\"https://pro.arcgis.com/en/pro-app/latest/arcpy/functions/shapefile-featureclass-properties.htm\" target=\"_blank\" >arcpy.Describe</a></p><br>"
      ],
      "text/plain": [
       "<geoprocessing describe data object at 0x1877750c330>"
      ]
     },
     "execution_count": 6,
     "metadata": {},
     "output_type": "execute_result"
    }
   ],
   "source": [
    "descShape = arcpy.Describe('MGN_DPTO_POLITICO.shp')\n",
    "descShape"
   ]
  },
  {
   "cell_type": "markdown",
   "metadata": {},
   "source": [
    "Como se puede ver, la funcion **describe** permite ver en primer instante la ruta del archivo, el tipo de dato y el tipo de geometria. de forma posterior nos muestra los *fields* o atributos del archivo y por ultimo la referencia espacial del archivo que describimos. \n",
    "\n",
    "De igual forma se pueden usar los atributos del onjeto *Describe* para realizar descripciones personalizadas, como la siguiente en el cual se muestra el nombre, tipo de datos y la dirección del archivo. Para mas información sobre los atributos de la función describe revisar: \n",
    "\n",
    "[Funcion Describe ESRI](https://pro.arcgis.com/es/pro-app/2.8/arcpy/functions/describe-object-properties.htm)\n",
    "\n"
   ]
  },
  {
   "cell_type": "code",
   "execution_count": 7,
   "metadata": {},
   "outputs": [
    {
     "name": "stdout",
     "output_type": "stream",
     "text": [
      "Name:        MGN_DPTO_POLITICO.shp\n",
      "DataType:    ShapeFile\n",
      "CatalogPath: D:/LIBROS_PYTHON/Datos\\MGN_DPTO_POLITICO.shp\n"
     ]
    }
   ],
   "source": [
    "if hasattr(descShape, \"name\"):\n",
    "    print(\"Name:        \" + descShape.name)\n",
    "if hasattr(descShape, \"dataType\"):\n",
    "    print(\"DataType:    \" + descShape.dataType)\n",
    "if hasattr(descShape, \"catalogPath\"):\n",
    "    print(\"CatalogPath: \" + descShape.catalogPath)"
   ]
  },
  {
   "cell_type": "markdown",
   "metadata": {},
   "source": [
    "Otra buena manera de realizar analisis de descripción sobre los nombre del shapefile de interes  es por el manejo de la función **ListFields** la cual de devuelve una lista de de objetos que representa cada uno de los atributos del archivo shapefile de interes. El potencial de esta función radica en que devulve un listado de objetos los cuales poseen atributos que son de utilidad."
   ]
  },
  {
   "cell_type": "code",
   "execution_count": 8,
   "metadata": {},
   "outputs": [
    {
     "name": "stdout",
     "output_type": "stream",
     "text": [
      "FID\n",
      "Shape\n",
      "DPTO_CCDGO\n",
      "DPTO_CNMBR\n",
      "DPTO_ANO_C\n",
      "DPTO_ACT_A\n",
      "DPTO_NAREA\n",
      "DPTO_CSMBL\n",
      "DPTO_VGNC\n",
      "Shape_Leng\n",
      "Shape_Area\n"
     ]
    }
   ],
   "source": [
    "fields = arcpy.ListFields(\"MGN_DPTO_POLITICO.shp\")\n",
    "fields\n",
    "\n",
    "for field in fields:\n",
    "    print(field.name)"
   ]
  },
  {
   "cell_type": "markdown",
   "metadata": {},
   "source": [
    "Podemos adentrarnos aun mas en las propiedades de los datos usando los objetos \"name, lenght y type\", veamos estas propiedades para cada atributo del archivo shapefile de departamentos de colombia."
   ]
  },
  {
   "cell_type": "code",
   "execution_count": 9,
   "metadata": {},
   "outputs": [
    {
     "name": "stdout",
     "output_type": "stream",
     "text": [
      "-------------------------\n",
      "Name: FID\n",
      "Lenght: 4\n",
      "Type: OID\n",
      "-------------------------\n",
      "Name: Shape\n",
      "Lenght: 0\n",
      "Type: Geometry\n",
      "-------------------------\n",
      "Name: DPTO_CCDGO\n",
      "Lenght: 2\n",
      "Type: String\n",
      "-------------------------\n",
      "Name: DPTO_CNMBR\n",
      "Lenght: 250\n",
      "Type: String\n",
      "-------------------------\n",
      "Name: DPTO_ANO_C\n",
      "Lenght: 5\n",
      "Type: Integer\n",
      "-------------------------\n",
      "Name: DPTO_ACT_A\n",
      "Lenght: 100\n",
      "Type: String\n",
      "-------------------------\n",
      "Name: DPTO_NAREA\n",
      "Lenght: 19\n",
      "Type: Double\n",
      "-------------------------\n",
      "Name: DPTO_CSMBL\n",
      "Lenght: 3\n",
      "Type: String\n",
      "-------------------------\n",
      "Name: DPTO_VGNC\n",
      "Lenght: 5\n",
      "Type: Integer\n",
      "-------------------------\n",
      "Name: Shape_Leng\n",
      "Lenght: 19\n",
      "Type: Double\n",
      "-------------------------\n",
      "Name: Shape_Area\n",
      "Lenght: 19\n",
      "Type: Double\n",
      "-------------------------\n"
     ]
    }
   ],
   "source": [
    "print('-------------------------') \n",
    "for field in fields: \n",
    "    print('Name: {0}'.format(field.name)) \n",
    "    print('Lenght: {0}'.format(field.length))\n",
    "    print('Type: {0}'.format(field.type))\n",
    "    print('-------------------------') "
   ]
  },
  {
   "cell_type": "markdown",
   "metadata": {},
   "source": [
    "Lo anterior se puede conseguir unicamente por que la función list fields de arcpy retorna como resultadoun listado de objetos, donde cada objeto posee atributos unicos como los usados con anterioridad. Al igual que con elarchivo de tipo shapefile, la funcion describe puede ser implementada para el análisis de los atributos de un archivo raster, ahora veamos un poco de los atributos del archivo raster:"
   ]
  },
  {
   "cell_type": "code",
   "execution_count": 10,
   "metadata": {},
   "outputs": [
    {
     "data": {
      "text/html": [
       "<style>table td#td0  {font-weight: bold}</style><table class=\"notebook\"><colgroup><col style=\"width:45%\"></col><col style=\"width:55%\"></col></colgroup><tr><td id = \"td0\" title=\"catalogPath\">catalogPath</td><td title=\"D:/LIBROS_PYTHON/Datos\\MOSAICO.tif\">D:/LIBROS_PYTHON/Datos\\MOSAICO.tif</td></tr><tr><td id = \"td0\" title=\"dataType\">dataType</td><td title=\"RasterDataset\">RasterDataset</td></tr><tr><td id = \"td0\" title=\"bandCount\">bandCount</td><td title=\"6\">6</td></tr><tr><td id = \"td0\" title=\"format\">format</td><td title=\"TIFF\">TIFF</td></tr></table><div class=\"title\"><i class=\"chevron-open\" onClick=\"event.preventDefault();document.getElementById('3A6FB375-9FFA-404B-BBB4-51BD739E749C').style.display =   document.getElementById('3A6FB375-9FFA-404B-BBB4-51BD739E749C').style.display == 'none' ? 'block' : 'none';this.classList.toggle('chevron-closed');\"></i>spatialReference</div><div id=\"3A6FB375-9FFA-404B-BBB4-51BD739E749C\"><style>table td#td0  {font-weight: bold}</style><table class=\"notebook\"><colgroup><col style=\"width:45%\"></col><col style=\"width:55%\"></col></colgroup><tr><td id = \"td0\" title=\"name (Projected Coordinate System)\">name (Projected Coordinate System)</td><td title=\"WGS_1984_UTM_Zone_18N\">WGS_1984_UTM_Zone_18N</td></tr><tr><td id = \"td0\" title=\"factoryCode (WKID)\">factoryCode (WKID)</td><td title=\"32618\">32618</td></tr><tr><td id = \"td0\" title=\"linearUnitName (Linear Unit)\">linearUnitName (Linear Unit)</td><td title=\"Meter\">Meter</td></tr></table><div class=\"subtitle\">spatialReference.GCS</div><style>table td#td0  {font-weight: bold}</style><table class=\"notebook\"><colgroup><col style=\"width:45%\"></col><col style=\"width:55%\"></col></colgroup><tr><td id = \"td0\" title=\"name (Geographic Coordinate System)\">name (Geographic Coordinate System)</td><td title=\"GCS_WGS_1984\">GCS_WGS_1984</td></tr><tr><td id = \"td0\" title=\"factoryCode (WKID)\">factoryCode (WKID)</td><td title=\"4326\">4326</td></tr><tr><td id = \"td0\" title=\"angularUnitName (Angular Unit)\">angularUnitName (Angular Unit)</td><td title=\"Degree\">Degree</td></tr><tr><td id = \"td0\" title=\"datumName (Datum)\">datumName (Datum)</td><td title=\"D_WGS_1984\">D_WGS_1984</td></tr></table></div><p class=\"gpresult\">For additional help,     see <a href=\"https://pro.arcgis.com/en/pro-app/latest/arcpy/functions/raster-dataset-properties.htm\" target=\"_blank\" >arcpy.Describe</a></p><br>"
      ],
      "text/plain": [
       "<geoprocessing describe data object at 0x1877750cd50>"
      ]
     },
     "execution_count": 10,
     "metadata": {},
     "output_type": "execute_result"
    }
   ],
   "source": [
    "desc = arcpy.Describe('MOSAICO.tif')\n",
    "desc"
   ]
  },
  {
   "cell_type": "markdown",
   "metadata": {},
   "source": [
    "Como vemos al igual que con el archivo shapefile, la función retorna la dirección de almacenamiento del archivo, su tipo de datos, el numero de bandas y su formato. Junto a este se muestra información relacionada a la referencia espacial como lo es el nombre de la proyeccion, las unidades, el datum, entre otros.\n",
    "\n",
    "La función \"describe\" permite acceder a aspectos de las propiedades del elemento descrito, como se muestra acontinuación se llaman algunas de estas propiedades, de igual forma como la identificacion de los limites de la imagen."
   ]
  },
  {
   "cell_type": "code",
   "execution_count": 11,
   "metadata": {},
   "outputs": [
    {
     "name": "stdout",
     "output_type": "stream",
     "text": [
      "La imagen es de tipo RasterDataset con una extension tif, su nombre es MOSAICO y el numero de bandas es 6 \n"
     ]
    }
   ],
   "source": [
    "print(\"La imagen es de tipo {} con una extension {}, su nombre es {} y el numero de bandas es {} \".format(desc.dataType, desc.extension, desc.baseName, desc.bandCount))"
   ]
  },
  {
   "cell_type": "code",
   "execution_count": 12,
   "metadata": {},
   "outputs": [
    {
     "name": "stdout",
     "output_type": "stream",
     "text": [
      "Los limites de la imagen son los siguientes: \n",
      " Longitud Max 715777.5 \n",
      " Longitud Min 629842.5 \n",
      " Latitud Max 548677.5 \n",
      " Latitud Min 499852.5\n"
     ]
    }
   ],
   "source": [
    "print(\"Los limites de la imagen son los siguientes: \\n Longitud Max {} \\n Longitud Min {} \\n Latitud Max {} \\n Latitud Min {}\".format(desc.extent.XMax, desc.extent.XMin, desc.extent.YMax, desc.extent.YMin))"
   ]
  },
  {
   "cell_type": "markdown",
   "metadata": {},
   "source": [
    "De igual forma podemos usar los atributos de descripcions de los elementos dentro de condicionales, en el siguiente caso donde condicionamos la creación de un buffer a la existancia de una capa shapefile de puntos."
   ]
  },
  {
   "cell_type": "code",
   "execution_count": 14,
   "metadata": {},
   "outputs": [
    {
     "name": "stdout",
     "output_type": "stream",
     "text": [
      "buffer creado en la siguiente ruta D:\\LIBROS_PYTHON\\Datos\\Results\\Buf_Cuidades.shp.\n"
     ]
    }
   ],
   "source": [
    "output ='D:/Python-ArcPy/Datos/Results/Buf_Cuidades.shp'\n",
    "descShape = arcpy.Describe('Capitales.shp')\n",
    "\n",
    "if descShape.dataType in ['FeatureClass' ,'ShapeFile'] and descShape.shapeType == 'Point':\n",
    "    result = arcpy.Buffer_analysis('Capitales.shp',output, '10000 meters')\n",
    "    print('buffer creado en la siguiente ruta {0}.'.format(result.getOutput(0)))"
   ]
  },
  {
   "cell_type": "markdown",
   "metadata": {},
   "source": [
    "Ahora usando la herramienta de analisis de buffer vamos a aplicar un buffer de 10 metros sobre la capa de puntos de muestra Palma Ed, y guardaremos este en la carpeta del entorno."
   ]
  },
  {
   "cell_type": "code",
   "execution_count": null,
   "metadata": {},
   "outputs": [],
   "source": [
    "arcpy.Buffer_analysis('Capitales.shp','D:/Python-ArcPy/Datos/Results/Buf_Cuidades.shp', '5000 meters')"
   ]
  }
 ],
 "metadata": {
  "kernelspec": {
   "display_name": "Python 3.9.11",
   "language": "python",
   "name": "python3"
  },
  "language_info": {
   "codemirror_mode": {
    "name": "ipython",
    "version": 3
   },
   "file_extension": ".py",
   "mimetype": "text/x-python",
   "name": "python",
   "nbconvert_exporter": "python",
   "pygments_lexer": "ipython3",
   "version": "3.9.11"
  },
  "orig_nbformat": 4,
  "vscode": {
   "interpreter": {
    "hash": "dcbecde42b8a1067f350bca6bdaefd1c58671b5449af8b60830f3618a36582b5"
   }
  }
 },
 "nbformat": 4,
 "nbformat_minor": 2
}
